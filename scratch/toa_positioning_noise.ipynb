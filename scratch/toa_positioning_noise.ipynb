{
 "cells": [
  {
   "cell_type": "code",
   "execution_count": 1,
   "metadata": {},
   "outputs": [],
   "source": [
    "from src.positioning.toa import toa_positioning\n",
    "from itertools import permutations\n",
    "import matplotlib.pyplot as plt\n",
    "import scipy.io as sio\n",
    "import numpy as np\n",
    "import os"
   ]
  },
  {
   "cell_type": "code",
   "execution_count": 2,
   "metadata": {
    "pycharm": {
     "name": "#%%\n"
    }
   },
   "outputs": [
    {
     "name": "stdout",
     "output_type": "stream",
     "text": [
      "toa tensor shape is: (50, 3000, 4)\n",
      "true coordinates tensor shape is: (50, 3000, 3)\n",
      "zenith of arrival tensor shape is: (50, 3000, 4)\n",
      "The total number of trajectories is: 50\n",
      "The number of sample per trajectory is: 3000\n"
     ]
    }
   ],
   "source": [
    "dir_name = \"Omni Spatial and Temporal Data\"\n",
    "data_dir = os.path.abspath(\"../../\"+dir_name)\n",
    "rx_power_tensor = sio.loadmat(os.path.join(data_dir, \"all_rxpower_tensor\"))['rx_power_tensor']\n",
    "toa_tensor = sio.loadmat(os.path.join(data_dir, \"all_toa_tensor\"))['toa_tensor']\n",
    "true_cord_tensor = sio.loadmat(os.path.join(data_dir, \"all_true_tensor\"))['true_cord_tensor']\n",
    "zenith_aoa_tensor = sio.loadmat(os.path.join(data_dir, \"all_zenith_tensor\"))['zenith_aoa_tensor']\n",
    "bs_coords = sio.loadmat(os.path.join(data_dir, \"BScords\"))\n",
    "print(f\"toa tensor shape is: {toa_tensor.shape}\")\n",
    "print(f\"true coordinates tensor shape is: {true_cord_tensor.shape}\")\n",
    "print(f\"zenith of arrival tensor shape is: {zenith_aoa_tensor.shape}\")\n",
    "print(f\"The total number of trajectories is: {toa_tensor.shape[0]}\")\n",
    "print(f\"The number of sample per trajectory is: {toa_tensor.shape[1]}\")\n",
    "tot_points = toa_tensor.shape[0]*toa_tensor.shape[1]\n",
    "min_rx_cords = np.array([373.5530, 295.8490, 68.1720])\n",
    "bs1_coord = bs_coords['bs1cords'] - min_rx_cords\n",
    "bs2_coord = bs_coords['bs2cords'] - min_rx_cords\n",
    "bs3_coord = bs_coords['bs3cords'] - min_rx_cords\n",
    "bs4_coord = bs_coords['bs4cords'] - min_rx_cords\n",
    "bss_coords = np.vstack((bs1_coord, bs2_coord, bs3_coord, bs4_coord))"
   ]
  },
  {
   "cell_type": "code",
   "execution_count": 3,
   "metadata": {},
   "outputs": [
    {
     "name": "stdout",
     "output_type": "stream",
     "text": [
      "0\n"
     ]
    }
   ],
   "source": [
    "rx_power_tensor[rx_power_tensor == 0] = -np.infty\n",
    "rx_power_tensor = 10 ** (0.1 * rx_power_tensor) \n",
    "\n",
    "BW = 400e6\n",
    "k = 1.38e-23\n",
    "NF = 10**(0.9)\n",
    "T = 298\n",
    "NoisePower = k*BW*NF*T\n",
    "SNRs = rx_power_tensor/NoisePower\n",
    "SNRs[SNRs==0.0] = 1e-25 # no paths to -250 dB SNR\n",
    "print(np.sum((SNRs==1e-25)))\n",
    "\n",
    "# adding Gaussian noise to the data\n",
    "toa_tensor = toa_tensor + toa_tensor / np.sqrt(SNRs) * np.random.normal(0,1,size=toa_tensor.shape)\n",
    "zenith_aoa_tensor = zenith_aoa_tensor + zenith_aoa_tensor / np.sqrt(SNRs) * np.random.normal(0,1,size=zenith_aoa_tensor.shape)"
   ]
  },
  {
   "cell_type": "code",
   "execution_count": 4,
   "metadata": {
    "pycharm": {
     "name": "#%%\n"
    }
   },
   "outputs": [
    {
     "name": "stdout",
     "output_type": "stream",
     "text": [
      "Total positions not found=76825.0\n"
     ]
    }
   ],
   "source": [
    "toa_tensor_r = np.reshape(toa_tensor, (tot_points, toa_tensor.shape[2]))\n",
    "true_cord_tensor_r = np.reshape(true_cord_tensor, (tot_points, true_cord_tensor.shape[2]))\n",
    "zenith_aoa_tensor_r = np.reshape(zenith_aoa_tensor, (tot_points, zenith_aoa_tensor.shape[2]))\n",
    "\n",
    "# let's estimate the 3D UAV location for all the samples in the 50 trajectories\n",
    "bs_idxs = range(4)\n",
    "perm = list(permutations(bs_idxs, 3))\n",
    "est_3d_coords = np.zeros((tot_points, 3))\n",
    "idx_found = np.zeros((tot_points, 1))\n",
    "\n",
    "for i, data_tuple in enumerate(zip(toa_tensor_r, zenith_aoa_tensor_r)):\n",
    "    toa_array, zenith_array = data_tuple\n",
    "    # convert degrees to radians\n",
    "    zenith_array = zenith_array*np.pi/180.0\n",
    "    k = 0\n",
    "    pos_found = False\n",
    "    est_3d_pos = 0\n",
    "    while pos_found != True and k < len(perm):\n",
    "        bs1_idx, bs2_idx, bs3_idx = perm[k]\n",
    "        pos_found, est_3d_pos = toa_positioning(bss_coords[[bs1_idx,bs2_idx,bs3_idx],:],\n",
    "                                 toa_array[[bs1_idx,bs2_idx,bs3_idx]],\n",
    "                                 zenith_array[[bs1_idx,bs2_idx,bs3_idx]])\n",
    "        k += 1\n",
    "\n",
    "    idx_found[i] = int(pos_found)\n",
    "    if pos_found:\n",
    "        est_3d_coords[i,:] = est_3d_pos\n",
    "\n",
    "print(f\"Total positions not found={tot_points - np.sum(idx_found)}\")\n",
    "with open('../models/toa_estimated_noise.npy', 'wb') as f:\n",
    "    np.save(f, est_3d_coords)"
   ]
  },
  {
   "cell_type": "code",
   "execution_count": 5,
   "metadata": {
    "pycharm": {
     "name": "#%%\n"
    }
   },
   "outputs": [
    {
     "name": "stdout",
     "output_type": "stream",
     "text": [
      "Total positions not found=76825.0\n"
     ]
    }
   ],
   "source": [
    "best_est_3d_coords = np.zeros((tot_points, 3))\n",
    "idx_best_found = np.zeros((tot_points, 1))\n",
    "\n",
    "for i, data_tuple in enumerate(zip(toa_tensor_r, zenith_aoa_tensor_r)):\n",
    "    toa_array, zenith_array = data_tuple\n",
    "    # convert degrees to radians\n",
    "    zenith_array = zenith_array*np.pi/180.0\n",
    "    k = 0\n",
    "    pos_found = False\n",
    "    est_3d_pos = None\n",
    "    prev_est_3d_pos = [0,0,0]\n",
    "    final_est_3d_pos = None\n",
    "    prev_error = np.inf\n",
    "    while k < len(perm):\n",
    "        bs1_idx, bs2_idx, bs3_idx = perm[k]\n",
    "        pos_found, est_3d_pos = toa_positioning(bss_coords[[bs1_idx,bs2_idx,bs3_idx],:],\n",
    "                                 toa_array[[bs1_idx,bs2_idx,bs3_idx]],\n",
    "                                 zenith_array[[bs1_idx,bs2_idx,bs3_idx]])\n",
    "        if k > 1 and pos_found:\n",
    "            est_3d_pos = np.array(est_3d_pos)\n",
    "            prev_est_3d_pos = np.array(prev_est_3d_pos)\n",
    "            error = np.sqrt(np.sum((est_3d_pos-prev_est_3d_pos)**2))\n",
    "            if error < prev_error:\n",
    "                prev_error = error\n",
    "                best_est_3d_coords[i,:] = est_3d_pos\n",
    "                prev_est_3d_pos = est_3d_pos\n",
    "                idx_best_found[i] = int(pos_found)\n",
    "\n",
    "        k += 1\n",
    "\n",
    "print(f\"Total positions not found={tot_points - np.sum(idx_best_found)}\")\n",
    "with open('../models/best_toa_estimated_noise.npy', 'wb') as f:\n",
    "    np.save(f, best_est_3d_coords)"
   ]
  },
  {
   "cell_type": "code",
   "execution_count": 6,
   "metadata": {
    "pycharm": {
     "name": "#%%\n"
    }
   },
   "outputs": [
    {
     "name": "stdout",
     "output_type": "stream",
     "text": [
      "The percentage of location not found is [%]: 51.21666666666667\n"
     ]
    },
    {
     "data": {
      "image/png": "[encoded data removed]",
      "text/plain": [
       "<Figure size 1000x600 with 1 Axes>"
      ]
     },
     "metadata": {
      "needs_background": "light"
     },
     "output_type": "display_data"
    }
   ],
   "source": [
    "ratio = (tot_points - np.sum(idx_found))/tot_points\n",
    "print(f\"The percentage of location not found is [%]: {ratio*100.}\")\n",
    "# print results\n",
    "error = np.sqrt(np.sum((true_cord_tensor_r - est_3d_coords)**2, axis=1))\n",
    "best_error = np.sqrt(np.sum((true_cord_tensor_r - best_est_3d_coords)**2, axis=1))\n",
    "plt.figure(figsize=(10,6), dpi=100)\n",
    "plt.plot(np.sort(error), np.linspace(0,1,tot_points), linewidth=2, label=\"first found\")\n",
    "plt.plot(np.sort(best_error), np.linspace(0,1,tot_points), linewidth=2, label=\"best estimate\")\n",
    "plt.xlim([-2,20])\n",
    "plt.ylabel(\"CDF\", fontsize=12)\n",
    "plt.xlabel(\"Estimation Error [m]\", fontsize=12)\n",
    "plt.title(\"CDF of the position estimation error using ToA\")\n",
    "plt.grid()\n",
    "plt.legend(loc=\"upper left\")\n",
    "plt.savefig(\"./toa_error_cdf_noise.png\")"
   ]
  },
  {
   "cell_type": "code",
   "execution_count": null,
   "metadata": {},
   "outputs": [],
   "source": []
  }
 ],
 "metadata": {
  "kernelspec": {
   "display_name": "Python 3",
   "language": "python",
   "name": "python3"
  },
  "language_info": {
   "codemirror_mode": {
    "name": "ipython",
    "version": 3
   },
   "file_extension": ".py",
   "mimetype": "text/x-python",
   "name": "python",
   "nbconvert_exporter": "python",
   "pygments_lexer": "ipython3",
   "version": "3.7.0"
  }
 },
 "nbformat": 4,
 "nbformat_minor": 1
}
